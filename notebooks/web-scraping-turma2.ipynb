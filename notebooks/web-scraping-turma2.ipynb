{
 "cells": [
  {
   "cell_type": "markdown",
   "metadata": {
    "slideshow": {
     "slide_type": "slide"
    }
   },
   "source": [
    "# Web Scraping com Python\n",
    "## https://github.com/rafpyprog/iesb\n",
    "Rafael Alves Ribeiro\n",
    "\n",
    "<div>\n",
    "<a href=\"https://github.com/rafpyprog/iesb\">\n",
    "<img style=\"width: 48px; float: left; margin: 0.25em\" src=\"https://image.flaticon.com/icons/png/512/25/25657.png\" alt=\"Github\" title=\"Github\">\n",
    "</a>\n",
    "<a href=\"mailto:rafael.alves.ribeiro@gmail.com\">\n",
    "<img style=\"width: 48px; float: left; margin: 0.25em\" src=\"data:image/png;base64,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\" alt=\"Email\" title=\"Gmail\">\n",
    "</a>\n",
    "</div>"
   ]
  },
  {
   "cell_type": "markdown",
   "metadata": {
    "slideshow": {
     "slide_type": "slide"
    }
   },
   "source": [
    "# Antes de Começar\n",
    "\n",
    "**Anaconda**\n",
    "\n",
    "`conda install -c conda-forge selenium`\n",
    "\n",
    "\n",
    "**OS**\n",
    "\n",
    "`pip install selenium requests beautifulsoup4`"
   ]
  },
  {
   "cell_type": "markdown",
   "metadata": {
    "slideshow": {
     "slide_type": "slide"
    }
   },
   "source": [
    "# Conceito\n",
    "\n",
    "**Web Scraping, ou raspagem de dados**, consiste em um processo que se utiliza de técnicas de programação para a coleta automatizada de dados provenientes da Web."
   ]
  },
  {
   "cell_type": "markdown",
   "metadata": {
    "slideshow": {
     "slide_type": "slide"
    }
   },
   "source": [
    "# Objetivo\n",
    "\n",
    "O principal objetivo do Web Scraping é extrair dados de serviços ou aplicativos que não oferecem uma interface de programação (API) e **transformar dados não estruturados em dados estruturados**\n",
    "\n",
    "<center><img style=\"width: 40%\" src=\"https://www.data-storage.uk/wp-content/uploads/unstructured-data.jpg\"></center>"
   ]
  },
  {
   "cell_type": "markdown",
   "metadata": {
    "slideshow": {
     "slide_type": "slide"
    }
   },
   "source": [
    "# Aplicaçoes do Web Scraping\n",
    "\n",
    "* Agregação de vagas de empregos\n",
    "* Análise de mercado\n",
    "* Comparação de preços\n",
    "* Detecção de mudanças em web sites\n",
    "* Extração de dados governamentais\n",
    "* Mineração de contatos e perfis pessoais\n",
    "* Monitoramento de citações sobre uma Marca\n",
    "* Seleção de ofertas e descontos"
   ]
  },
  {
   "cell_type": "markdown",
   "metadata": {
    "slideshow": {
     "slide_type": "slide"
    }
   },
   "source": [
    "# Scraper\n",
    "\n",
    "Scraper é um software que simula a interação realizada entre um browser operado por um humano e um Web Site. Possui 3 funções básicas:\n",
    "\n",
    "1. Acesso ao Web Site\n",
    "2. Parsing e Extração de conteúdo\n",
    "3. Estruturação dos resultados"
   ]
  },
  {
   "cell_type": "markdown",
   "metadata": {
    "slideshow": {
     "slide_type": "slide"
    }
   },
   "source": [
    "# Procolo HTTP\n",
    "\n",
    "<div style=\"width: 100%; overflow: hidden;\">\n",
    "    <div style=\"width: 50%; float: left;\">\n",
    "        <center><h3>Requests</h3></center>\n",
    "        <img style=\"width: 100%;\" src=\"https://i0.wp.com/blogs.innovationm.com/wp-content/uploads/2016/10/HTTP-Protocol.png?fit=624%2C248\">\n",
    "    </div>\n",
    "    <div>\n",
    "        <center><h3>Headers</h3></center>\n",
    "        <img style=\"width: 50%;\" src=\"https://mdn.mozillademos.org/files/13687/HTTP_Request.png\">\n",
    "    </div>\n",
    "    </div>"
   ]
  },
  {
   "cell_type": "markdown",
   "metadata": {
    "slideshow": {
     "slide_type": "slide"
    }
   },
   "source": [
    "# Desenvolvendo um Scraper - 6 Etapas\n",
    "  <p></p>\n",
    "<div style=\"width: 100%; overflow: hidden; vertical-align:middle;\">\n",
    "    <div style=\"width: 50%; float: left;\">            \n",
    "    <ol>\n",
    "        <li>Identificar</li>\n",
    "        <li>Navegar</li>\n",
    "        <li>Replicar</li>\n",
    "        <li>Parsear</li>\n",
    "        <li>Validar</li>\n",
    "        <li>Iterar</li>\n",
    "        </ol>\n",
    "    </div>\n",
    "    <div>\n",
    "        <img style=\"width: 50%; vertical-align:middle;\" src=\"https://scrapingpros.com/wp-content/uploads/2017/01/scraper1-1.png\">\n",
    "    </div>\n",
    "</div>\n",
    "  \n",
    "\n"
   ]
  },
  {
   "cell_type": "markdown",
   "metadata": {
    "slideshow": {
     "slide_type": "slide"
    }
   },
   "source": [
    "# 1. Identificar\n",
    "\n",
    "No primeiro passo do processo de desenvolvimento de um scraper precisamos entender qual é a estrutura das páginas que queremos raspar e traçar um plano para extrair tudo que precisamos."
   ]
  },
  {
   "cell_type": "markdown",
   "metadata": {
    "slideshow": {
     "slide_type": "slide"
    }
   },
   "source": [
    "# 2. Navegar\n",
    "\n",
    "Precisamos entender como localizar o dado que queremos\n",
    "extrair dentro do HTML da página. Esse passo pode ser\n",
    "extremamente simples, mas de vez em quando ele se tornará algo bastante complexo."
   ]
  },
  {
   "cell_type": "markdown",
   "metadata": {
    "slideshow": {
     "slide_type": "slide"
    }
   },
   "source": [
    "# Dev Tools\n",
    "\n",
    "O Dev Tools é conjunto de ferramentas integradas ao browser construı́das para facilitar o desenvolvimento de Web Sites. Permite analisar o código, o tráfego de rede e a performance de uma página. É a principal ferramenta de apoio ao desenvolvimento de Scrapers.\n",
    "<center>\n",
    "<img style=\"width: 40%; float: left;\" src =\"https://cdn.pcsteps.com/wp-content/uploads/2015/09/Reset-Chrome-Reset-Firefox-to-Fix-Most-Problems.png\">\n",
    "<img style=\"width: 25%;\" src =\"https://cdn.instructables.com/FE1/3CR2/GV0KXNWV/FE13CR2GV0KXNWV.LARGE.jpg\">\n",
    "</center>\n"
   ]
  },
  {
   "cell_type": "markdown",
   "metadata": {
    "slideshow": {
     "slide_type": "slide"
    }
   },
   "source": [
    "# 3. Replicar\n",
    "\n",
    "Neste passo é importante compreender as várias requisições HTTP\n",
    "que a página está realizando para trazer o conteúdo até você,\n",
    "assim poderemos replicar as requisições com nosso Scraper.\n",
    "Utilizaremos a aba Network do Dev Tools para este trabalho."
   ]
  },
  {
   "cell_type": "markdown",
   "metadata": {
    "slideshow": {
     "slide_type": "slide"
    }
   },
   "source": [
    "# 4. Parsear\n",
    "\n",
    "O anglicismo parsear vem do verbo to parse, que quer dizer algo como analisar ou estudar, mas que, no contexto do Web Scraping, significa extrair os dados desejados de um arquivo HTML. Vejamos um exemplo:"
   ]
  },
  {
   "cell_type": "markdown",
   "metadata": {
    "slideshow": {
     "slide_type": "slide"
    }
   },
   "source": [
    "# Enviamos uma requisicao HTTP utilizando o método GET"
   ]
  },
  {
   "cell_type": "code",
   "execution_count": 1,
   "metadata": {
    "slideshow": {
     "slide_type": "slide"
    }
   },
   "outputs": [
    {
     "name": "stdout",
     "output_type": "stream",
     "text": [
      "<!doctype html>\n",
      "<!--[if lt IE 7]>   <html class=\"no-js ie6 lt-ie7 lt-ie8 lt-ie9\">   <![endif]-->\n",
      "<!--[if IE 7]>      <html class=\"no-js ie7 lt-ie8 lt-ie9\">          <![endif]-->\n",
      "<!--[if IE 8]>      <html class=\"no-js ie8 lt-ie9\">                 <![endif]-->\n",
      "<!--[if gt IE 8]><!--><html class=\"no-js\"\n"
     ]
    }
   ],
   "source": [
    "from bs4 import BeautifulSoup\n",
    "import requests\n",
    "\n",
    "HTML = requests.get('http://www.python.org').text\n",
    "print(HTML[:300])"
   ]
  },
  {
   "cell_type": "markdown",
   "metadata": {
    "slideshow": {
     "slide_type": "slide"
    }
   },
   "source": [
    "# Realizamos o parse do HTML utilizando BeautifulSoup"
   ]
  },
  {
   "cell_type": "code",
   "execution_count": 2,
   "metadata": {
    "scrolled": true,
    "slideshow": {
     "slide_type": "slide"
    }
   },
   "outputs": [
    {
     "name": "stdout",
     "output_type": "stream",
     "text": [
      "<class 'bs4.BeautifulSoup'>\n",
      "Methods: ['ASCII_SPACES', 'DEFAULT_BUILDER_FEATURES', 'HTML_FORMATTERS', 'NO_PARSER_SPECIFIED_WARNING', 'ROOT_TAG_NAME', 'XML_FORMATTERS', 'append', 'attribselect_re', 'attrs', 'builder', 'can_be_empty_element', 'childGenerator', 'children', 'clear', 'contains_replacement_characters', 'contents', 'currentTag', 'current_data', 'declared_html_encoding', 'decode', 'decode_contents', 'decompose', 'descendants', 'encode', 'encode_contents', 'endData', 'extract', 'fetchNextSiblings', 'fetchParents', 'fetchPrevious', 'fetchPreviousSiblings', 'find', 'findAll', 'findAllNext', 'findAllPrevious', 'findChild', 'findChildren', 'findNext', 'findNextSibling', 'findNextSiblings', 'findParent', 'findParents', 'findPrevious', 'findPreviousSibling', 'findPreviousSiblings', 'find_all', 'find_all_next', 'find_all_previous', 'find_next', 'find_next_sibling', 'find_next_siblings', 'find_parent', 'find_parents', 'find_previous', 'find_previous_sibling', 'find_previous_siblings', 'format_string', 'get', 'getText', 'get_attribute_list', 'get_text', 'handle_data', 'handle_endtag', 'handle_starttag', 'has_attr', 'has_key', 'hidden', 'index', 'insert', 'insert_after', 'insert_before', 'isSelfClosing', 'is_empty_element', 'is_xml', 'known_xml', 'markup', 'name', 'namespace', 'new_string', 'new_tag', 'next', 'nextGenerator', 'nextSibling', 'nextSiblingGenerator', 'next_element', 'next_elements', 'next_sibling', 'next_siblings', 'object_was_parsed', 'original_encoding', 'parent', 'parentGenerator', 'parents', 'parse_only', 'parserClass', 'parser_class', 'popTag', 'prefix', 'preserve_whitespace_tag_stack', 'preserve_whitespace_tags', 'prettify', 'previous', 'previousGenerator', 'previousSibling', 'previousSiblingGenerator', 'previous_element', 'previous_elements', 'previous_sibling', 'previous_siblings', 'pushTag', 'quoted_colon', 'recursiveChildGenerator', 'renderContents', 'replaceWith', 'replaceWithChildren', 'replace_with', 'replace_with_children', 'reset', 'select', 'select_one', 'setup', 'string', 'strings', 'stripped_strings', 'tagStack', 'tag_name_re', 'text', 'unwrap', 'wrap']\n"
     ]
    }
   ],
   "source": [
    "soup = BeautifulSoup(HTML, 'html.parser')\n",
    "print(type(soup))\n",
    "print('Methods:', [i for i in dir(soup) if not i.startswith('_')])"
   ]
  },
  {
   "cell_type": "markdown",
   "metadata": {
    "slideshow": {
     "slide_type": "slide"
    }
   },
   "source": [
    "# 5. Validar\n",
    "\n",
    "Se tivermos feito tudo certo até agora, validar os resultados será uma tarefa simples. Precisamos apenas reproduzir o procedimento descrito até agora para algumas outras páginas de modo verificar se estamos de fato extraindo corretamente tudo o que queremos.\n",
    "<center>\n",
    "<img style=\"width: 400px;\" src=\"https://cdn-images-1.medium.com/max/475/1*IbHgZrKYCUSeIbL_PywObQ.png\">\n",
    "</center>"
   ]
  },
  {
   "cell_type": "markdown",
   "metadata": {
    "slideshow": {
     "slide_type": "slide"
    }
   },
   "source": [
    "# 6. Iterar\n",
    "\n",
    "O último passo consiste em colocar o nosso scraper em produção. Aqui, ele já deve estar funcionando corretamente para todos os casos desejados. Na maior parte dos casos isso consiste em encapsular o scraper em uma função que recebe uma série de links e aplica o mesmo procedimento em cada um. Se quisermos aumentar a eficiência desse processo, podemos paralelizar ou distribuir o nosso raspador.\n",
    "\n",
    "<center>\n",
    "    <img style=\"width: 400px;\" src=\"https://www.freelancinggig.com/blog/wp-content/uploads/2017/02/google-aws-microsoft-azure.jpg\">\n",
    "</center>"
   ]
  },
  {
   "cell_type": "markdown",
   "metadata": {
    "slideshow": {
     "slide_type": "slide"
    }
   },
   "source": [
    "# Fazendo Download de um arquivo\n",
    "<img src=\"http://greenteapress.com/thinkpython/think_python_comp2.medium.png\">"
   ]
  },
  {
   "cell_type": "code",
   "execution_count": 16,
   "metadata": {
    "slideshow": {
     "slide_type": "fragment"
    }
   },
   "outputs": [
    {
     "name": "stdout",
     "output_type": "stream",
     "text": [
      "Status code: 200\n",
      "Cabeçalho da resposta: {'Date': 'Tue, 06 Nov 2018 20:49:25 GMT', 'Server': 'Apache', 'Last-Modified': 'Mon, 22 Feb 2016 17:23:24 GMT', 'ETag': '\"cbc7d-52c5f17101b00\"', 'Accept-Ranges': 'bytes', 'Content-Length': '834685', 'Keep-Alive': 'timeout=2, max=100', 'Connection': 'Keep-Alive', 'Content-Type': 'application/pdf'}\n"
     ]
    }
   ],
   "source": [
    "import requests\n",
    "\n",
    "URL = 'https://www.greenteapress.com/thinkpython/thinkpython.pdf'\n",
    "response = requests.get(URL)\n",
    "response.raise_for_status()\n",
    "\n",
    "print('Status code:', response.status_code)\n",
    "print('Cabeçalho da resposta:', response.headers)\n",
    "\n",
    "with open('thinkpython.pdf', 'wb') as f:\n",
    "    f.write(response.content)"
   ]
  },
  {
   "cell_type": "code",
   "execution_count": 14,
   "metadata": {},
   "outputs": [
    {
     "name": "stdout",
     "output_type": "stream",
     "text": [
      "thinkpython.pdf\r\n"
     ]
    }
   ],
   "source": [
    "# dir *.pdf\n",
    "!ls *.pdf"
   ]
  },
  {
   "cell_type": "markdown",
   "metadata": {
    "slideshow": {
     "slide_type": "slide"
    }
   },
   "source": [
    "<center>\n",
    "<img src=\"https://media.makeameme.org/created/its-your-turn-wj2dce.jpg\">\n",
    "</center>"
   ]
  },
  {
   "cell_type": "markdown",
   "metadata": {
    "slideshow": {
     "slide_type": "slide"
    }
   },
   "source": [
    "# JSON\n",
    "\n",
    "<img src=\"https://graphcms.com/blog/covers/swapi_cover.png\">"
   ]
  },
  {
   "cell_type": "code",
   "execution_count": 19,
   "metadata": {
    "slideshow": {
     "slide_type": "fragment"
    }
   },
   "outputs": [
    {
     "name": "stdout",
     "output_type": "stream",
     "text": [
      "Status code: 200\n",
      "Cabeçalho da resposta: {'Date': 'Tue, 06 Nov 2018 20:52:40 GMT', 'Content-Type': 'application/json', 'Transfer-Encoding': 'chunked', 'Connection': 'keep-alive', 'Set-Cookie': '__cfduid=de4e132985d719d3ab49c189babe7ef0c1541537559; expires=Wed, 06-Nov-19 20:52:39 GMT; path=/; domain=.swapi.co; HttpOnly; Secure', 'Allow': 'GET, HEAD, OPTIONS', 'X-Frame-Options': 'SAMEORIGIN', 'Vary': 'Accept, Cookie', 'Etag': 'W/\"145c70f4eca80b4752674d42e5bf1bcf\"', 'Via': '1.1 vegur', 'Expect-CT': 'max-age=604800, report-uri=\"https://report-uri.cloudflare.com/cdn-cgi/beacon/expect-ct\"', 'Server': 'cloudflare', 'CF-RAY': '475a71f3ec1ca8b1-CDG', 'Content-Encoding': 'gzip'}\n"
     ]
    },
    {
     "data": {
      "text/plain": [
       "{'name': 'Luke Skywalker',\n",
       " 'height': '172',\n",
       " 'mass': '77',\n",
       " 'hair_color': 'blond',\n",
       " 'skin_color': 'fair',\n",
       " 'eye_color': 'blue',\n",
       " 'birth_year': '19BBY',\n",
       " 'gender': 'male',\n",
       " 'homeworld': 'https://swapi.co/api/planets/1/',\n",
       " 'films': ['https://swapi.co/api/films/2/',\n",
       "  'https://swapi.co/api/films/6/',\n",
       "  'https://swapi.co/api/films/3/',\n",
       "  'https://swapi.co/api/films/1/',\n",
       "  'https://swapi.co/api/films/7/'],\n",
       " 'species': ['https://swapi.co/api/species/1/'],\n",
       " 'vehicles': ['https://swapi.co/api/vehicles/14/',\n",
       "  'https://swapi.co/api/vehicles/30/'],\n",
       " 'starships': ['https://swapi.co/api/starships/12/',\n",
       "  'https://swapi.co/api/starships/22/'],\n",
       " 'created': '2014-12-09T13:50:51.644000Z',\n",
       " 'edited': '2014-12-20T21:17:56.891000Z',\n",
       " 'url': 'https://swapi.co/api/people/1/'}"
      ]
     },
     "execution_count": 19,
     "metadata": {},
     "output_type": "execute_result"
    }
   ],
   "source": [
    "import requests\n",
    "\n",
    "api = 'https://swapi.co/api/people/1/'\n",
    "response = requests.get(api)\n",
    "\n",
    "response.raise_for_status()\n",
    "\n",
    "print('Status code:', response.status_code)\n",
    "print('Cabeçalho da resposta:', response.headers)\n",
    "\n",
    "response.json()"
   ]
  },
  {
   "cell_type": "markdown",
   "metadata": {
    "slideshow": {
     "slide_type": "slide"
    }
   },
   "source": [
    "# Enviando Dados - POST\n",
    "\n",
    "* Faça login no site http://testing-ground.scraping.pro/login e inspecione as requisiçoes HTTP no Dev Tools\n",
    "\n",
    "## Replicando o login com o requests"
   ]
  },
  {
   "cell_type": "code",
   "execution_count": 20,
   "metadata": {
    "slideshow": {
     "slide_type": "slide"
    }
   },
   "outputs": [
    {
     "name": "stdout",
     "output_type": "stream",
     "text": [
      "http://testing-ground.scraping.pro/login?mode=login&pwd=12345&usr=admin\n"
     ]
    },
    {
     "data": {
      "text/plain": [
       "True"
      ]
     },
     "execution_count": 20,
     "metadata": {},
     "output_type": "execute_result"
    }
   ],
   "source": [
    "import requests\n",
    "\n",
    "url = 'http://testing-ground.scraping.pro/login?mode=login'\n",
    "params = {'pwd': '12345', 'usr': 'admin'}\n",
    "headers = {'User-Agent': ''}\n",
    "response = requests.post(url, params=params, headers=headers)\n",
    "print(response.url)\n",
    "\n",
    "'&nbsp;GO BACK'in response.text"
   ]
  }
 ],
 "metadata": {
  "celltoolbar": "Slideshow",
  "kernelspec": {
   "display_name": "masterclass",
   "language": "python",
   "name": "masterclass"
  },
  "language_info": {
   "codemirror_mode": {
    "name": "ipython",
    "version": 3
   },
   "file_extension": ".py",
   "mimetype": "text/x-python",
   "name": "python",
   "nbconvert_exporter": "python",
   "pygments_lexer": "ipython3",
   "version": "3.6.6"
  }
 },
 "nbformat": 4,
 "nbformat_minor": 2
}
